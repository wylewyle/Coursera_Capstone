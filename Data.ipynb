{
 "cells": [
  {
   "cell_type": "markdown",
   "metadata": {},
   "source": [
    "### 2. Data"
   ]
  },
  {
   "cell_type": "markdown",
   "metadata": {},
   "source": [
    "In this project, I will be using data from https://data.stadt-zuerich.ch/dataset/sid_dav_verkehrszaehlung_miv_od2031/resource/fa64fa70-6328-4d47-bcf0-1eff694d7c22 . However, although more recent data is available, I will be making use of the data from Zurich from the year 2019 - pre-Corona, as the Corona pandemic has biased this situation and I would like our analysis to be more applicable to normal, everyday life."
   ]
  },
  {
   "cell_type": "markdown",
   "metadata": {},
   "source": [
    "<img src=\"geo.png\">"
   ]
  },
  {
   "cell_type": "code",
   "execution_count": null,
   "metadata": {},
   "outputs": [],
   "source": []
  },
  {
   "cell_type": "raw",
   "metadata": {},
   "source": [
    "Above, we can see the stations where the level of motorised traffic was measured. As one can see, they are scattered all over Zurich and more densely placed within the city centre."
   ]
  },
  {
   "cell_type": "code",
   "execution_count": 4,
   "metadata": {},
   "outputs": [],
   "source": [
    "import pandas as pd\n",
    "import numpy as np"
   ]
  },
  {
   "cell_type": "code",
   "execution_count": 11,
   "metadata": {},
   "outputs": [
    {
     "data": {
      "text/html": [
       "<div>\n",
       "<style scoped>\n",
       "    .dataframe tbody tr th:only-of-type {\n",
       "        vertical-align: middle;\n",
       "    }\n",
       "\n",
       "    .dataframe tbody tr th {\n",
       "        vertical-align: top;\n",
       "    }\n",
       "\n",
       "    .dataframe thead th {\n",
       "        text-align: right;\n",
       "    }\n",
       "</style>\n",
       "<table border=\"1\" class=\"dataframe\">\n",
       "  <thead>\n",
       "    <tr style=\"text-align: right;\">\n",
       "      <th></th>\n",
       "      <th>MSID</th>\n",
       "      <th>MSName</th>\n",
       "      <th>ZSID</th>\n",
       "      <th>ZSName</th>\n",
       "      <th>Achse</th>\n",
       "      <th>HNr</th>\n",
       "      <th>Hoehe</th>\n",
       "      <th>EKoord</th>\n",
       "      <th>NKoord</th>\n",
       "      <th>Richtung</th>\n",
       "      <th>...</th>\n",
       "      <th>Kname</th>\n",
       "      <th>AnzDetektoren</th>\n",
       "      <th>D1ID</th>\n",
       "      <th>D2ID</th>\n",
       "      <th>D3ID</th>\n",
       "      <th>D4ID</th>\n",
       "      <th>MessungDatZeit</th>\n",
       "      <th>LieferDat</th>\n",
       "      <th>AnzFahrzeuge</th>\n",
       "      <th>AnzFahrzeugeStatus</th>\n",
       "    </tr>\n",
       "  </thead>\n",
       "  <tbody>\n",
       "    <tr>\n",
       "      <th>0</th>\n",
       "      <td>Z001M001</td>\n",
       "      <td>Unbekannt</td>\n",
       "      <td>Z001</td>\n",
       "      <td>Seestrasse (Strandbad Wollishofen)</td>\n",
       "      <td>Seestrasse</td>\n",
       "      <td>451</td>\n",
       "      <td>Unbekannt</td>\n",
       "      <td>2683009.89</td>\n",
       "      <td>1243936.2</td>\n",
       "      <td>auswärts</td>\n",
       "      <td>...</td>\n",
       "      <td>Badanstalt Wollishofen</td>\n",
       "      <td>1</td>\n",
       "      <td>2</td>\n",
       "      <td>Unbekannt</td>\n",
       "      <td>Unbekannt</td>\n",
       "      <td>Unbekannt</td>\n",
       "      <td>2019-01-01T00:00:00</td>\n",
       "      <td>2020-02-05</td>\n",
       "      <td>201.0</td>\n",
       "      <td>Gemessen</td>\n",
       "    </tr>\n",
       "    <tr>\n",
       "      <th>1</th>\n",
       "      <td>Z001M001</td>\n",
       "      <td>Unbekannt</td>\n",
       "      <td>Z001</td>\n",
       "      <td>Seestrasse (Strandbad Wollishofen)</td>\n",
       "      <td>Seestrasse</td>\n",
       "      <td>451</td>\n",
       "      <td>Unbekannt</td>\n",
       "      <td>2683009.89</td>\n",
       "      <td>1243936.2</td>\n",
       "      <td>auswärts</td>\n",
       "      <td>...</td>\n",
       "      <td>Badanstalt Wollishofen</td>\n",
       "      <td>1</td>\n",
       "      <td>2</td>\n",
       "      <td>Unbekannt</td>\n",
       "      <td>Unbekannt</td>\n",
       "      <td>Unbekannt</td>\n",
       "      <td>2019-01-01T01:00:00</td>\n",
       "      <td>2020-02-05</td>\n",
       "      <td>343.0</td>\n",
       "      <td>Gemessen</td>\n",
       "    </tr>\n",
       "    <tr>\n",
       "      <th>2</th>\n",
       "      <td>Z001M001</td>\n",
       "      <td>Unbekannt</td>\n",
       "      <td>Z001</td>\n",
       "      <td>Seestrasse (Strandbad Wollishofen)</td>\n",
       "      <td>Seestrasse</td>\n",
       "      <td>451</td>\n",
       "      <td>Unbekannt</td>\n",
       "      <td>2683009.89</td>\n",
       "      <td>1243936.2</td>\n",
       "      <td>auswärts</td>\n",
       "      <td>...</td>\n",
       "      <td>Badanstalt Wollishofen</td>\n",
       "      <td>1</td>\n",
       "      <td>2</td>\n",
       "      <td>Unbekannt</td>\n",
       "      <td>Unbekannt</td>\n",
       "      <td>Unbekannt</td>\n",
       "      <td>2019-01-01T02:00:00</td>\n",
       "      <td>2020-02-05</td>\n",
       "      <td>175.0</td>\n",
       "      <td>Gemessen</td>\n",
       "    </tr>\n",
       "    <tr>\n",
       "      <th>3</th>\n",
       "      <td>Z001M001</td>\n",
       "      <td>Unbekannt</td>\n",
       "      <td>Z001</td>\n",
       "      <td>Seestrasse (Strandbad Wollishofen)</td>\n",
       "      <td>Seestrasse</td>\n",
       "      <td>451</td>\n",
       "      <td>Unbekannt</td>\n",
       "      <td>2683009.89</td>\n",
       "      <td>1243936.2</td>\n",
       "      <td>auswärts</td>\n",
       "      <td>...</td>\n",
       "      <td>Badanstalt Wollishofen</td>\n",
       "      <td>1</td>\n",
       "      <td>2</td>\n",
       "      <td>Unbekannt</td>\n",
       "      <td>Unbekannt</td>\n",
       "      <td>Unbekannt</td>\n",
       "      <td>2019-01-01T03:00:00</td>\n",
       "      <td>2020-02-05</td>\n",
       "      <td>99.0</td>\n",
       "      <td>Gemessen</td>\n",
       "    </tr>\n",
       "    <tr>\n",
       "      <th>4</th>\n",
       "      <td>Z001M001</td>\n",
       "      <td>Unbekannt</td>\n",
       "      <td>Z001</td>\n",
       "      <td>Seestrasse (Strandbad Wollishofen)</td>\n",
       "      <td>Seestrasse</td>\n",
       "      <td>451</td>\n",
       "      <td>Unbekannt</td>\n",
       "      <td>2683009.89</td>\n",
       "      <td>1243936.2</td>\n",
       "      <td>auswärts</td>\n",
       "      <td>...</td>\n",
       "      <td>Badanstalt Wollishofen</td>\n",
       "      <td>1</td>\n",
       "      <td>2</td>\n",
       "      <td>Unbekannt</td>\n",
       "      <td>Unbekannt</td>\n",
       "      <td>Unbekannt</td>\n",
       "      <td>2019-01-01T04:00:00</td>\n",
       "      <td>2020-02-05</td>\n",
       "      <td>79.0</td>\n",
       "      <td>Gemessen</td>\n",
       "    </tr>\n",
       "  </tbody>\n",
       "</table>\n",
       "<p>5 rows × 21 columns</p>\n",
       "</div>"
      ],
      "text/plain": [
       "       MSID     MSName  ZSID                              ZSName       Achse  \\\n",
       "0  Z001M001  Unbekannt  Z001  Seestrasse (Strandbad Wollishofen)  Seestrasse   \n",
       "1  Z001M001  Unbekannt  Z001  Seestrasse (Strandbad Wollishofen)  Seestrasse   \n",
       "2  Z001M001  Unbekannt  Z001  Seestrasse (Strandbad Wollishofen)  Seestrasse   \n",
       "3  Z001M001  Unbekannt  Z001  Seestrasse (Strandbad Wollishofen)  Seestrasse   \n",
       "4  Z001M001  Unbekannt  Z001  Seestrasse (Strandbad Wollishofen)  Seestrasse   \n",
       "\n",
       "   HNr      Hoehe      EKoord     NKoord  Richtung  ...  \\\n",
       "0  451  Unbekannt  2683009.89  1243936.2  auswärts  ...   \n",
       "1  451  Unbekannt  2683009.89  1243936.2  auswärts  ...   \n",
       "2  451  Unbekannt  2683009.89  1243936.2  auswärts  ...   \n",
       "3  451  Unbekannt  2683009.89  1243936.2  auswärts  ...   \n",
       "4  451  Unbekannt  2683009.89  1243936.2  auswärts  ...   \n",
       "\n",
       "                    Kname AnzDetektoren  D1ID       D2ID       D3ID  \\\n",
       "0  Badanstalt Wollishofen             1     2  Unbekannt  Unbekannt   \n",
       "1  Badanstalt Wollishofen             1     2  Unbekannt  Unbekannt   \n",
       "2  Badanstalt Wollishofen             1     2  Unbekannt  Unbekannt   \n",
       "3  Badanstalt Wollishofen             1     2  Unbekannt  Unbekannt   \n",
       "4  Badanstalt Wollishofen             1     2  Unbekannt  Unbekannt   \n",
       "\n",
       "        D4ID       MessungDatZeit   LieferDat AnzFahrzeuge  AnzFahrzeugeStatus  \n",
       "0  Unbekannt  2019-01-01T00:00:00  2020-02-05        201.0            Gemessen  \n",
       "1  Unbekannt  2019-01-01T01:00:00  2020-02-05        343.0            Gemessen  \n",
       "2  Unbekannt  2019-01-01T02:00:00  2020-02-05        175.0            Gemessen  \n",
       "3  Unbekannt  2019-01-01T03:00:00  2020-02-05         99.0            Gemessen  \n",
       "4  Unbekannt  2019-01-01T04:00:00  2020-02-05         79.0            Gemessen  \n",
       "\n",
       "[5 rows x 21 columns]"
      ]
     },
     "execution_count": 11,
     "metadata": {},
     "output_type": "execute_result"
    }
   ],
   "source": [
    "# Import Traffic Data\n",
    "traffic = pd.read_csv(\"sid_dav_verkehrszaehlung_miv_od2031_2019.csv\")\n",
    "traffic.head()"
   ]
  },
  {
   "cell_type": "code",
   "execution_count": 8,
   "metadata": {},
   "outputs": [
    {
     "data": {
      "text/plain": [
       "['MSID',\n",
       " 'MSName',\n",
       " 'ZSID',\n",
       " 'ZSName',\n",
       " 'Achse',\n",
       " 'HNr',\n",
       " 'Hoehe',\n",
       " 'EKoord',\n",
       " 'NKoord',\n",
       " 'Richtung',\n",
       " 'Knummer',\n",
       " 'Kname',\n",
       " 'AnzDetektoren',\n",
       " 'D1ID',\n",
       " 'D2ID',\n",
       " 'D3ID',\n",
       " 'D4ID',\n",
       " 'MessungDatZeit',\n",
       " 'LieferDat',\n",
       " 'AnzFahrzeuge',\n",
       " 'AnzFahrzeugeStatus']"
      ]
     },
     "execution_count": 8,
     "metadata": {},
     "output_type": "execute_result"
    }
   ],
   "source": [
    "Column_Headers = list(traffic.columns.values)\n",
    "Column_Headers"
   ]
  },
  {
   "cell_type": "code",
   "execution_count": 9,
   "metadata": {},
   "outputs": [
    {
     "data": {
      "text/plain": [
       "MSID                   object\n",
       "MSName                 object\n",
       "ZSID                   object\n",
       "ZSName                 object\n",
       "Achse                  object\n",
       "HNr                    object\n",
       "Hoehe                  object\n",
       "EKoord                float64\n",
       "NKoord                float64\n",
       "Richtung               object\n",
       "Knummer                 int64\n",
       "Kname                  object\n",
       "AnzDetektoren           int64\n",
       "D1ID                    int64\n",
       "D2ID                   object\n",
       "D3ID                   object\n",
       "D4ID                   object\n",
       "MessungDatZeit         object\n",
       "LieferDat              object\n",
       "AnzFahrzeuge          float64\n",
       "AnzFahrzeugeStatus     object\n",
       "dtype: object"
      ]
     },
     "execution_count": 9,
     "metadata": {},
     "output_type": "execute_result"
    }
   ],
   "source": [
    "traffic.dtypes"
   ]
  },
  {
   "cell_type": "code",
   "execution_count": 12,
   "metadata": {},
   "outputs": [
    {
     "data": {
      "text/plain": [
       "(1579416, 21)"
      ]
     },
     "execution_count": 12,
     "metadata": {},
     "output_type": "execute_result"
    }
   ],
   "source": [
    "traffic.shape"
   ]
  },
  {
   "cell_type": "markdown",
   "metadata": {},
   "source": [
    "The Column names are in German (official language in Zurich), as a first step next week we will translate them, and clean them up."
   ]
  },
  {
   "cell_type": "markdown",
   "metadata": {},
   "source": [
    "We are lucky, as this dataset is pretty comprehensive: It encapsulates the *hourly* traffic density over the period of a whole year!"
   ]
  },
  {
   "cell_type": "markdown",
   "metadata": {},
   "source": [
    "We want to use this data set in a multitude of ways:\n",
    "\n",
    "* First of all, we will try to make a general statement about where traffic is dense, frequent and dangerous for young people and children on their ways to school or during school activities. During the analysis, we will try to make use of the tools we learnt, such as visualization, clustering, etc.\n",
    "* Secondly, we want to analyse the traffic changes in different monnths, again we will try to make use of the tools we learnt, such as visualization, clustering, etc. This might be useful because some months of school might be avoided by setting holidays accordingly.\n",
    "* Thirdly, having found good candidates for potential location for elementary schools, we would try to find geographic data about already existing schools to exclude overlap."
   ]
  },
  {
   "cell_type": "code",
   "execution_count": null,
   "metadata": {},
   "outputs": [],
   "source": []
  },
  {
   "cell_type": "code",
   "execution_count": null,
   "metadata": {},
   "outputs": [],
   "source": []
  }
 ],
 "metadata": {
  "kernelspec": {
   "display_name": "Python 3",
   "language": "python",
   "name": "python3"
  },
  "language_info": {
   "codemirror_mode": {
    "name": "ipython",
    "version": 3
   },
   "file_extension": ".py",
   "mimetype": "text/x-python",
   "name": "python",
   "nbconvert_exporter": "python",
   "pygments_lexer": "ipython3",
   "version": "3.8.3"
  }
 },
 "nbformat": 4,
 "nbformat_minor": 4
}
