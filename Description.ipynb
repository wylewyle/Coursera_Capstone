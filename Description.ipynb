{
 "cells": [
  {
   "cell_type": "markdown",
   "metadata": {},
   "source": [
    "# New Elementary School in Zurich - Coursera Project"
   ]
  },
  {
   "cell_type": "markdown",
   "metadata": {},
   "source": [
    "## 1. Description"
   ]
  },
  {
   "cell_type": "markdown",
   "metadata": {},
   "source": [
    "Switzerland is a small country in the heart of Europe, with a population of roughly 8.5 million. However, it belongs to the most densely populated areas of Europe, being part of the so called \"blue banana\":"
   ]
  },
  {
   "cell_type": "markdown",
   "metadata": {},
   "source": [
    "<img src=\"banan.png\">"
   ]
  },
  {
   "cell_type": "markdown",
   "metadata": {},
   "source": [
    "Accordingly, the population growth rate is very high in urban centers of Switzerland as well, most prominently so in Zurich, on of the financial capitals of Europe. With this, there is a higher demand for new social infrastructure, such as hospitals, public transport stations, and schools."
   ]
  },
  {
   "cell_type": "markdown",
   "metadata": {},
   "source": [
    "In this project, we want to assist the government in deciding which locations might be best to build new elementary schools (ES). With pupils from ES, it is important to guarantee for them a safe environement in school as well as on their way to school. By far the most dangerous component of that is traffic, sadly, traffic accidents endanger the lives of many students every year.\n",
    "\n"
   ]
  },
  {
   "cell_type": "markdown",
   "metadata": {},
   "source": [
    "Therefore, it is vital to take traffic patterns as well as other geographical data of Zurich city into account when analysing potential locations for education infrastructure. This is a perfect way to apply the data science skills I acquired during the last few weeks to a real-world problem."
   ]
  },
  {
   "cell_type": "code",
   "execution_count": null,
   "metadata": {},
   "outputs": [],
   "source": []
  }
 ],
 "metadata": {
  "kernelspec": {
   "display_name": "Python 3",
   "language": "python",
   "name": "python3"
  },
  "language_info": {
   "codemirror_mode": {
    "name": "ipython",
    "version": 3
   },
   "file_extension": ".py",
   "mimetype": "text/x-python",
   "name": "python",
   "nbconvert_exporter": "python",
   "pygments_lexer": "ipython3",
   "version": "3.8.3"
  }
 },
 "nbformat": 4,
 "nbformat_minor": 4
}
